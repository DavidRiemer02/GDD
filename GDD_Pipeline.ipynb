{
 "cells": [
  {
   "cell_type": "markdown",
   "metadata": {},
   "source": [
    "GDD Classify Pipeline"
   ]
  },
  {
   "cell_type": "markdown",
   "metadata": {},
   "source": [
    "1. Step Set the run configuration.\n",
    "Be sure to set java memory not over your usable RAM\n",
    "If Metanome fails, be sure to use JAVA Version 18.0.2.1"
   ]
  },
  {
   "cell_type": "code",
   "execution_count": null,
   "metadata": {},
   "outputs": [],
   "source": [
    "from notebook_ui import config_editor\n",
    "config_editor()"
   ]
  },
  {
   "cell_type": "markdown",
   "metadata": {},
   "source": [
    "2. Upload a CSV file or a ZIP archive locally. ZIPs will be extracted automatically."
   ]
  },
  {
   "cell_type": "code",
   "execution_count": null,
   "metadata": {},
   "outputs": [],
   "source": [
    "from notebook_ui import upload_widget\n",
    "import json\n",
    "\n",
    "# Load your config\n",
    "with open(\"config.json\", \"r\") as f:\n",
    "    config = json.load(f)\n",
    "\n",
    "# Display widget\n",
    "upload_widget(config)"
   ]
  },
  {
   "cell_type": "markdown",
   "metadata": {},
   "source": [
    "3. Run the classification pipeline on the dataset:"
   ]
  },
  {
   "cell_type": "code",
   "execution_count": 3,
   "metadata": {},
   "outputs": [
    {
     "name": "stdout",
     "output_type": "stream",
     "text": [
      "-----Starting full classification pipeline with metrics-----\n",
      "Reading and processing: UserData/realData\\achievements.csv\n"
     ]
    },
    {
     "name": "stderr",
     "output_type": "stream",
     "text": [
      "Reading: 100%|██████████| 1/1 [00:00<00:00, 393.65it/s]"
     ]
    },
    {
     "name": "stderr",
     "output_type": "stream",
     "text": [
      "\n"
     ]
    },
    {
     "name": "stdout",
     "output_type": "stream",
     "text": [
      "Only 78 rows found. Sampling skipped.\n",
      "Cleaned CSV saved to: UserData/realData\\achievements.csv.tmp\n",
      "Reading and processing: UserData/realData\\art.csv\n"
     ]
    },
    {
     "name": "stderr",
     "output_type": "stream",
     "text": [
      "Reading: 100%|██████████| 1/1 [00:00<00:00, 444.12it/s]\n"
     ]
    },
    {
     "name": "stdout",
     "output_type": "stream",
     "text": [
      "Only 12 rows found. Sampling skipped.\n",
      "Cleaned CSV saved to: UserData/realData\\art.csv.tmp\n",
      "Reading and processing: UserData/realData\\bags.csv\n"
     ]
    },
    {
     "name": "stderr",
     "output_type": "stream",
     "text": [
      "Reading: 100%|██████████| 1/1 [00:00<00:00, 230.99it/s]\n"
     ]
    },
    {
     "name": "stdout",
     "output_type": "stream",
     "text": [
      "Only 96 rows found. Sampling skipped.\n",
      "Cleaned CSV saved to: UserData/realData\\bags.csv.tmp\n",
      "Reading and processing: UserData/realData\\bottoms.csv\n"
     ]
    },
    {
     "name": "stderr",
     "output_type": "stream",
     "text": [
      "Reading: 100%|██████████| 1/1 [00:00<00:00, 149.78it/s]\n"
     ]
    },
    {
     "name": "stdout",
     "output_type": "stream",
     "text": [
      "Only 726 rows found. Sampling skipped.\n",
      "Cleaned CSV saved to: UserData/realData\\bottoms.csv.tmp\n",
      "Reading and processing: UserData/realData\\construction.csv\n"
     ]
    },
    {
     "name": "stderr",
     "output_type": "stream",
     "text": [
      "Reading: 100%|██████████| 1/1 [00:00<00:00, 464.90it/s]"
     ]
    },
    {
     "name": "stdout",
     "output_type": "stream",
     "text": [
      "Only 236 rows found. Sampling skipped.\n",
      "Cleaned CSV saved to: UserData/realData\\construction.csv.tmp\n",
      "[2025-04-03 17:21:44] Metanome result already exists: UserData/realData\\metanomeResults\\.\\achievements_Results.json, skipping.\n",
      "[2025-04-03 17:21:44] Metanome result already exists: UserData/realData\\metanomeResults\\.\\art_Results.json, skipping.\n",
      "[2025-04-03 17:21:44] Metanome result already exists: UserData/realData\\metanomeResults\\.\\bags_Results.json, skipping.\n",
      "[2025-04-03 17:21:44] Metanome result already exists: UserData/realData\\metanomeResults\\.\\bottoms_Results.json, skipping.\n",
      "[2025-04-03 17:21:44] Metanome result already exists: UserData/realData\\metanomeResults\\.\\construction_Results.json, skipping.\n",
      "Found 5 datasets in 'UserData/realData'. Starting classification...\n",
      "UserData/realData\\achievements.csv classified as real in 43 ms.\n",
      "UserData/realData\\art.csv classified as real in 47 ms.\n"
     ]
    },
    {
     "name": "stderr",
     "output_type": "stream",
     "text": [
      "\n",
      "F:\\VSCode\\projects\\generatedDatasetDetector\\RandomForest\\MultipleRandomForestTraining.py:40: RuntimeWarning: Precision loss occurred in moment calculation due to catastrophic cancellation. This occurs when the data are nearly identical. Results may be unreliable.\n",
      "  skew_vals = skew(filtered_numeric_df, nan_policy='omit')\n",
      "F:\\VSCode\\projects\\generatedDatasetDetector\\RandomForest\\MultipleRandomForestTraining.py:47: RuntimeWarning: Precision loss occurred in moment calculation due to catastrophic cancellation. This occurs when the data are nearly identical. Results may be unreliable.\n",
      "  features['num_kurtosis'] = np.clip(np.nanmean(kurtosis(filtered_numeric_df, nan_policy='omit')), -10, 10)\n"
     ]
    },
    {
     "name": "stdout",
     "output_type": "stream",
     "text": [
      "UserData/realData\\bags.csv classified as real in 51 ms.\n",
      "UserData/realData\\bottoms.csv classified as real in 54 ms.\n",
      "UserData/realData\\construction.csv classified as real in 37 ms.\n",
      "[2025-04-03 17:21:45] Summary written to UserData/results\\run_summary.txt\n",
      "-----Classification completed-----\n"
     ]
    }
   ],
   "source": [
    "%run test_pipeline.py"
   ]
  }
 ],
 "metadata": {
  "kernelspec": {
   "display_name": "Python 3",
   "language": "python",
   "name": "python3"
  },
  "language_info": {
   "codemirror_mode": {
    "name": "ipython",
    "version": 3
   },
   "file_extension": ".py",
   "mimetype": "text/x-python",
   "name": "python",
   "nbconvert_exporter": "python",
   "pygments_lexer": "ipython3",
   "version": "3.13.2"
  }
 },
 "nbformat": 4,
 "nbformat_minor": 2
}
