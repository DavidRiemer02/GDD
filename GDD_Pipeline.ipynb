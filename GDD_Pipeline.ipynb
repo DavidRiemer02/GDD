{
 "cells": [
  {
   "cell_type": "markdown",
   "metadata": {},
   "source": [
    "GDD Classify Pipeline"
   ]
  },
  {
   "cell_type": "markdown",
   "metadata": {},
   "source": [
    "0: Install all required packages"
   ]
  },
  {
   "cell_type": "code",
   "execution_count": null,
   "metadata": {},
   "outputs": [],
   "source": [
    "from NoteBook_UI.notebook_ui import install_requirements\n",
    "install_requirements()"
   ]
  },
  {
   "cell_type": "markdown",
   "metadata": {},
   "source": [
    "1. Step Set the run configuration.\n",
    "Be sure to set java memory not over your usable RAM\n",
    "If Metanome fails, be sure to use JAVA Version 18.0.2.1"
   ]
  },
  {
   "cell_type": "code",
   "execution_count": 3,
   "metadata": {},
   "outputs": [
    {
     "data": {
      "application/vnd.jupyter.widget-view+json": {
       "model_id": "de7bb28f1f6b45e0862af32f424c02f2",
       "version_major": 2,
       "version_minor": 0
      },
      "text/plain": [
       "VBox(children=(Textarea(value='{\\n    \"java_exe\": \"C:\\\\\\\\Users\\\\\\\\David\\\\\\\\.jdks\\\\\\\\openjdk-18.0.2.1\\\\\\\\bin\\\\\\…"
      ]
     },
     "execution_count": 3,
     "metadata": {},
     "output_type": "execute_result"
    }
   ],
   "source": [
    "from NoteBook_UI.notebook_ui import config_editor\n",
    "config_editor()\n"
   ]
  },
  {
   "cell_type": "markdown",
   "metadata": {},
   "source": [
    "2. Upload a CSV file or a ZIP archive locally. ZIPs will be extracted automatically."
   ]
  },
  {
   "cell_type": "code",
   "execution_count": 6,
   "metadata": {},
   "outputs": [
    {
     "data": {
      "application/vnd.jupyter.widget-view+json": {
       "model_id": "82582ea3c40345f4a6810110f5b98d40",
       "version_major": 2,
       "version_minor": 0
      },
      "text/plain": [
       "VBox(children=(Label(value='Upload your dataset (CSV or ZIP containing CSV files):'), FileUpload(value=(), acc…"
      ]
     },
     "execution_count": 6,
     "metadata": {},
     "output_type": "execute_result"
    }
   ],
   "source": [
    "from NoteBook_UI.notebook_ui import upload_widget\n",
    "import json\n",
    "\n",
    "# Load your config\n",
    "with open(\"NoteBook_UI/config.json\", \"r\") as f:\n",
    "    config = json.load(f)\n",
    "\n",
    "# Display widget\n",
    "upload_widget(config)"
   ]
  },
  {
   "cell_type": "markdown",
   "metadata": {},
   "source": [
    "3. Run the classification pipeline on the dataset:"
   ]
  },
  {
   "cell_type": "code",
   "execution_count": null,
   "metadata": {},
   "outputs": [],
   "source": [
    "%run test_pipeline.py"
   ]
  }
 ],
 "metadata": {
  "kernelspec": {
   "display_name": "Python 3",
   "language": "python",
   "name": "python3"
  },
  "language_info": {
   "codemirror_mode": {
    "name": "ipython",
    "version": 3
   },
   "file_extension": ".py",
   "mimetype": "text/x-python",
   "name": "python",
   "nbconvert_exporter": "python",
   "pygments_lexer": "ipython3",
   "version": "3.13.2"
  }
 },
 "nbformat": 4,
 "nbformat_minor": 2
}
