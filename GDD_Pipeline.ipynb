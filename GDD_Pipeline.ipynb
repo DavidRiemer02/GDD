{
 "cells": [
  {
   "cell_type": "markdown",
   "metadata": {},
   "source": [
    "###GDD Classify Pipeline"
   ]
  },
  {
   "cell_type": "markdown",
   "metadata": {},
   "source": [
    "1. Step Set the run configuration.\n",
    "Be sure to set java memory not over your usable RAM\n",
    "If Metanome fails, be sure to use JAVA Version 18.0.2.1"
   ]
  },
  {
   "cell_type": "code",
   "execution_count": 1,
   "metadata": {},
   "outputs": [
    {
     "data": {
      "application/vnd.jupyter.widget-view+json": {
       "model_id": "74fd5da1fdff4fd9be2a79983d147656",
       "version_major": 2,
       "version_minor": 0
      },
      "text/plain": [
       "VBox(children=(Textarea(value='{\\n    \"java_exe\": \"C:\\\\\\\\Users\\\\\\\\David\\\\\\\\.jdks\\\\\\\\openjdk-18.0.2.1\\\\\\\\bin\\\\\\…"
      ]
     },
     "execution_count": 1,
     "metadata": {},
     "output_type": "execute_result"
    }
   ],
   "source": [
    "from ipywidgets import Textarea, Button, VBox, Label\n",
    "import json\n",
    "config_path = \"config.json\"\n",
    "    \n",
    "# Load existing config\n",
    "with open(config_path, \"r\") as f:\n",
    "    config_text = f.read()\n",
    "\n",
    "# Create editable text area\n",
    "config_area = Textarea(\n",
    "    value=config_text,\n",
    "    placeholder='Edit JSON config here...',\n",
    "    description='Config:',\n",
    "    layout={'width': '100%', 'height': '200px'}\n",
    ")\n",
    "\n",
    "save_button = Button(description=\"Save Config\", button_style=\"success\")\n",
    "status_label = Label(value=\"\")\n",
    "\n",
    "# Define save function\n",
    "def save_config(b):\n",
    "    try:\n",
    "        new_config = json.loads(config_area.value)\n",
    "        with open(config_path, \"w\") as f:\n",
    "            json.dump(new_config, f, indent=4)\n",
    "        status_label.value = \"Config saved successfully!\"\n",
    "    except json.JSONDecodeError as e:\n",
    "        status_label.value = f\"❌ JSON Error: {str(e)}\"\n",
    "\n",
    "save_button.on_click(save_config)\n",
    "\n",
    "# Display editor UI\n",
    "VBox([config_area, save_button, status_label])"
   ]
  },
  {
   "cell_type": "code",
   "execution_count": null,
   "metadata": {},
   "outputs": [],
   "source": [
    "#save JSON config to config df\n",
    "with open(config_path, \"r\") as f:\n",
    "    config = f.read()\n"
   ]
  },
  {
   "cell_type": "markdown",
   "metadata": {},
   "source": [
    "Select a file that you want to classify"
   ]
  },
  {
   "cell_type": "code",
   "execution_count": 17,
   "metadata": {},
   "outputs": [
    {
     "data": {
      "application/vnd.jupyter.widget-view+json": {
       "model_id": "dec71ffc96aa4f138e4b0750f93ed817",
       "version_major": 2,
       "version_minor": 0
      },
      "text/plain": [
       "VBox(children=(RadioButtons(description='Target:', options=('realData', 'fakeData'), value='realData'), FileUp…"
      ]
     },
     "execution_count": 17,
     "metadata": {},
     "output_type": "execute_result"
    }
   ],
   "source": [
    "from ipywidgets import RadioButtons, FileUpload, VBox, Label\n",
    "import os\n",
    "\n",
    "java_exe = config[\"java_exe\"]\n",
    "test_base_dir_real = config[\"test_base_dir_real\"]\n",
    "test_base_dir_fake = config[\"test_base_dir_fake\"]\n",
    "metanome_jar = config[\"metanome_jar\"]\n",
    "java_memory = config[\"java_memory\"]\n",
    "# Ensure target folders exist\n",
    "os.makedirs(\"UserData/realData\", exist_ok=True)\n",
    "os.makedirs(\"UserData/fakeData\", exist_ok=True)\n",
    "os.makedirs(\"UserData/realData/metanomeResults\", exist_ok=True)\n",
    "os.makedirs(\"UserData/fakeData/metanomeResults\", exist_ok=True)\n",
    "test_result_dir_real = os.path.join(test_base_dir_real, \"metanomeResults\")\n",
    "test_result_dir_fake = os.path.join(test_base_dir_fake, \"metanomeResults\")\n",
    "\n",
    "# Widget to choose target folder\n",
    "folder_choice = RadioButtons(\n",
    "    options=[\"realData\", \"fakeData\"],\n",
    "    description=\"Target:\",\n",
    "    value=\"realData\"\n",
    ")\n",
    "\n",
    "# Widget to upload files\n",
    "file_uploader = FileUpload(accept=\".csv\", multiple=False)\n",
    "upload_status = Label(value=\"\")\n",
    "\n",
    "def handle_upload(change):\n",
    "    upload_status.value = \"\"\n",
    "    for fileinfo in file_uploader.value:\n",
    "        filename = fileinfo[\"name\"]\n",
    "        content = fileinfo[\"content\"]\n",
    "        folder = f\"UserData/{folder_choice.value}\"\n",
    "        save_path = os.path.join(folder, filename)\n",
    "\n",
    "        with open(save_path, \"wb\") as f:\n",
    "            f.write(content)\n",
    "\n",
    "        upload_status.value = f\"Uploaded '{filename}' to '{folder}'\"\n",
    "\n",
    "file_uploader.observe(handle_upload, names='value')\n",
    "\n",
    "VBox([folder_choice, file_uploader, upload_status])\n"
   ]
  },
  {
   "cell_type": "code",
   "execution_count": 22,
   "metadata": {},
   "outputs": [
    {
     "name": "stdout",
     "output_type": "stream",
     "text": [
      "Starting full test pipeline with metrics...\n",
      "Cleaning CSV files in UserData/realData ...\n",
      "Cleaning UserData/realData\\estat_sbs_sc_ovw_filtered_en.csv ...\n",
      "Reading and processing: UserData/realData\\estat_sbs_sc_ovw_filtered_en.csv\n"
     ]
    },
    {
     "name": "stderr",
     "output_type": "stream",
     "text": [
      "Reading: 100%|██████████| 1/1 [00:00<00:00, 470.32it/s]"
     ]
    },
    {
     "name": "stdout",
     "output_type": "stream",
     "text": [
      "⚠️ Only 106 rows found. Sampling skipped.\n",
      "✅ Cleaned CSV saved to: UserData/realData\\estat_sbs_sc_ovw_filtered_en.csv.tmp\n",
      "Processing is complete and file has been overwritten with sampled data.\n",
      "[2025-03-29 02:21:55] ✅ Metanome result already exists: UserData/realData\\metanomeResults\\.\\estat_sbs_sc_ovw_filtered_en_Results.json, skipping.\n",
      "Cleaning CSV files in UserData/fakeData ...\n",
      "Found 1 datasets in 'UserData/realData'. Starting classification...\n",
      "UserData/realData\\estat_sbs_sc_ovw_filtered_en.csv classified as real in 42 ms.\n",
      "No CSV datasets found in 'UserData/fakeData'.\n",
      "\n",
      " Classification Report:\n",
      "Accuracy:  1.0000\n",
      "Precision: 1.0000\n",
      "Recall:    1.0000\n",
      "F1-score:  1.0000\n",
      "\n",
      " Confusion Matrix:\n",
      "[[1]]\n"
     ]
    },
    {
     "name": "stderr",
     "output_type": "stream",
     "text": [
      "\n",
      "C:\\Users\\David\\AppData\\Local\\Packages\\PythonSoftwareFoundation.Python.3.13_qbz5n2kfra8p0\\LocalCache\\local-packages\\Python313\\site-packages\\sklearn\\metrics\\_classification.py:407: UserWarning: A single label was found in 'y_true' and 'y_pred'. For the confusion matrix to have the correct shape, use the 'labels' parameter to pass all known labels.\n",
      "  warnings.warn(\n"
     ]
    },
    {
     "data": {
      "image/png": "[encoded data removed]",
      "text/plain": [
       "<Figure size 500x400 with 2 Axes>"
      ]
     },
     "metadata": {},
     "output_type": "display_data"
    }
   ],
   "source": [
    "%run test_pipeline.py"
   ]
  }
 ],
 "metadata": {
  "kernelspec": {
   "display_name": "Python 3",
   "language": "python",
   "name": "python3"
  },
  "language_info": {
   "codemirror_mode": {
    "name": "ipython",
    "version": 3
   },
   "file_extension": ".py",
   "mimetype": "text/x-python",
   "name": "python",
   "nbconvert_exporter": "python",
   "pygments_lexer": "ipython3",
   "version": "3.13.2"
  }
 },
 "nbformat": 4,
 "nbformat_minor": 2
}
