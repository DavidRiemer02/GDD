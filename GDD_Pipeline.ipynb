{
 "cells": [
  {
   "cell_type": "markdown",
   "metadata": {},
   "source": [
    "GDD Classify Pipeline"
   ]
  },
  {
   "cell_type": "markdown",
   "metadata": {},
   "source": [
    "0: Install all required packages"
   ]
  },
  {
   "cell_type": "code",
   "execution_count": 1,
   "metadata": {},
   "outputs": [
    {
     "name": "stdout",
     "output_type": "stream",
     "text": [
      "Defaulting to user installation because normal site-packages is not writeable\n",
      "Requirement already satisfied: annotated-types==0.7.0 in c:\\users\\david\\appdata\\local\\packages\\pythonsoftwarefoundation.python.3.13_qbz5n2kfra8p0\\localcache\\local-packages\\python313\\site-packages (from -r NoteBook_UI/requirements.txt (line 1)) (0.7.0)\n",
      "Requirement already satisfied: anyio==4.9.0 in c:\\users\\david\\appdata\\local\\packages\\pythonsoftwarefoundation.python.3.13_qbz5n2kfra8p0\\localcache\\local-packages\\python313\\site-packages (from -r NoteBook_UI/requirements.txt (line 2)) (4.9.0)\n",
      "Requirement already satisfied: argon2-cffi==23.1.0 in c:\\users\\david\\appdata\\local\\packages\\pythonsoftwarefoundation.python.3.13_qbz5n2kfra8p0\\localcache\\local-packages\\python313\\site-packages (from -r NoteBook_UI/requirements.txt (line 3)) (23.1.0)\n",
      "Requirement already satisfied: argon2-cffi-bindings==21.2.0 in c:\\users\\david\\appdata\\local\\packages\\pythonsoftwarefoundation.python.3.13_qbz5n2kfra8p0\\localcache\\local-packages\\python313\\site-packages (from -r NoteBook_UI/requirements.txt (line 4)) (21.2.0)\n",
      "Requirement already satisfied: arrow==1.3.0 in c:\\users\\david\\appdata\\local\\packages\\pythonsoftwarefoundation.python.3.13_qbz5n2kfra8p0\\localcache\\local-packages\\python313\\site-packages (from -r NoteBook_UI/requirements.txt (line 5)) (1.3.0)\n",
      "Requirement already satisfied: asttokens==3.0.0 in c:\\users\\david\\appdata\\local\\packages\\pythonsoftwarefoundation.python.3.13_qbz5n2kfra8p0\\localcache\\local-packages\\python313\\site-packages (from -r NoteBook_UI/requirements.txt (line 6)) (3.0.0)\n",
      "Requirement already satisfied: async-lru==2.0.5 in c:\\users\\david\\appdata\\local\\packages\\pythonsoftwarefoundation.python.3.13_qbz5n2kfra8p0\\localcache\\local-packages\\python313\\site-packages (from -r NoteBook_UI/requirements.txt (line 7)) (2.0.5)\n",
      "Requirement already satisfied: attrs==25.3.0 in c:\\users\\david\\appdata\\local\\packages\\pythonsoftwarefoundation.python.3.13_qbz5n2kfra8p0\\localcache\\local-packages\\python313\\site-packages (from -r NoteBook_UI/requirements.txt (line 8)) (25.3.0)\n",
      "Requirement already satisfied: babel==2.17.0 in c:\\users\\david\\appdata\\local\\packages\\pythonsoftwarefoundation.python.3.13_qbz5n2kfra8p0\\localcache\\local-packages\\python313\\site-packages (from -r NoteBook_UI/requirements.txt (line 9)) (2.17.0)\n",
      "Requirement already satisfied: beautifulsoup4==4.13.3 in c:\\users\\david\\appdata\\local\\packages\\pythonsoftwarefoundation.python.3.13_qbz5n2kfra8p0\\localcache\\local-packages\\python313\\site-packages (from -r NoteBook_UI/requirements.txt (line 10)) (4.13.3)\n",
      "Requirement already satisfied: bleach==6.2.0 in c:\\users\\david\\appdata\\local\\packages\\pythonsoftwarefoundation.python.3.13_qbz5n2kfra8p0\\localcache\\local-packages\\python313\\site-packages (from -r NoteBook_UI/requirements.txt (line 11)) (6.2.0)\n",
      "Requirement already satisfied: boto3==1.37.19 in c:\\users\\david\\appdata\\local\\packages\\pythonsoftwarefoundation.python.3.13_qbz5n2kfra8p0\\localcache\\local-packages\\python313\\site-packages (from -r NoteBook_UI/requirements.txt (line 12)) (1.37.19)\n",
      "Requirement already satisfied: botocore==1.37.19 in c:\\users\\david\\appdata\\local\\packages\\pythonsoftwarefoundation.python.3.13_qbz5n2kfra8p0\\localcache\\local-packages\\python313\\site-packages (from -r NoteBook_UI/requirements.txt (line 13)) (1.37.19)\n",
      "Requirement already satisfied: certifi==2025.1.31 in c:\\users\\david\\appdata\\local\\packages\\pythonsoftwarefoundation.python.3.13_qbz5n2kfra8p0\\localcache\\local-packages\\python313\\site-packages (from -r NoteBook_UI/requirements.txt (line 14)) (2025.1.31)\n",
      "Requirement already satisfied: cffi==1.17.1 in c:\\users\\david\\appdata\\local\\packages\\pythonsoftwarefoundation.python.3.13_qbz5n2kfra8p0\\localcache\\local-packages\\python313\\site-packages (from -r NoteBook_UI/requirements.txt (line 15)) (1.17.1)\n",
      "Requirement already satisfied: chardet==5.2.0 in c:\\users\\david\\appdata\\local\\packages\\pythonsoftwarefoundation.python.3.13_qbz5n2kfra8p0\\localcache\\local-packages\\python313\\site-packages (from -r NoteBook_UI/requirements.txt (line 16)) (5.2.0)\n",
      "Requirement already satisfied: charset-normalizer==3.4.1 in c:\\users\\david\\appdata\\local\\packages\\pythonsoftwarefoundation.python.3.13_qbz5n2kfra8p0\\localcache\\local-packages\\python313\\site-packages (from -r NoteBook_UI/requirements.txt (line 17)) (3.4.1)\n",
      "Requirement already satisfied: click==8.1.8 in c:\\users\\david\\appdata\\local\\packages\\pythonsoftwarefoundation.python.3.13_qbz5n2kfra8p0\\localcache\\local-packages\\python313\\site-packages (from -r NoteBook_UI/requirements.txt (line 18)) (8.1.8)\n",
      "Requirement already satisfied: cloudpickle==3.1.1 in c:\\users\\david\\appdata\\local\\packages\\pythonsoftwarefoundation.python.3.13_qbz5n2kfra8p0\\localcache\\local-packages\\python313\\site-packages (from -r NoteBook_UI/requirements.txt (line 19)) (3.1.1)\n",
      "Requirement already satisfied: colorama==0.4.6 in c:\\users\\david\\appdata\\local\\packages\\pythonsoftwarefoundation.python.3.13_qbz5n2kfra8p0\\localcache\\local-packages\\python313\\site-packages (from -r NoteBook_UI/requirements.txt (line 20)) (0.4.6)\n",
      "Requirement already satisfied: comm==0.2.2 in c:\\users\\david\\appdata\\local\\packages\\pythonsoftwarefoundation.python.3.13_qbz5n2kfra8p0\\localcache\\local-packages\\python313\\site-packages (from -r NoteBook_UI/requirements.txt (line 21)) (0.2.2)\n",
      "Requirement already satisfied: contourpy==1.3.1 in c:\\users\\david\\appdata\\local\\packages\\pythonsoftwarefoundation.python.3.13_qbz5n2kfra8p0\\localcache\\local-packages\\python313\\site-packages (from -r NoteBook_UI/requirements.txt (line 22)) (1.3.1)\n",
      "Requirement already satisfied: copulas==0.12.1 in c:\\users\\david\\appdata\\local\\packages\\pythonsoftwarefoundation.python.3.13_qbz5n2kfra8p0\\localcache\\local-packages\\python313\\site-packages (from -r NoteBook_UI/requirements.txt (line 23)) (0.12.1)\n",
      "Requirement already satisfied: csv_trimming==1.1.1 in c:\\users\\david\\appdata\\local\\packages\\pythonsoftwarefoundation.python.3.13_qbz5n2kfra8p0\\localcache\\local-packages\\python313\\site-packages (from -r NoteBook_UI/requirements.txt (line 24)) (1.1.1)\n",
      "Requirement already satisfied: ctgan==0.11.0 in c:\\users\\david\\appdata\\local\\packages\\pythonsoftwarefoundation.python.3.13_qbz5n2kfra8p0\\localcache\\local-packages\\python313\\site-packages (from -r NoteBook_UI/requirements.txt (line 25)) (0.11.0)\n",
      "Requirement already satisfied: cycler==0.12.1 in c:\\users\\david\\appdata\\local\\packages\\pythonsoftwarefoundation.python.3.13_qbz5n2kfra8p0\\localcache\\local-packages\\python313\\site-packages (from -r NoteBook_UI/requirements.txt (line 26)) (0.12.1)\n",
      "Requirement already satisfied: datallm==0.2.6 in c:\\users\\david\\appdata\\local\\packages\\pythonsoftwarefoundation.python.3.13_qbz5n2kfra8p0\\localcache\\local-packages\\python313\\site-packages (from -r NoteBook_UI/requirements.txt (line 27)) (0.2.6)\n",
      "Requirement already satisfied: debugpy==1.8.12 in c:\\users\\david\\appdata\\local\\packages\\pythonsoftwarefoundation.python.3.13_qbz5n2kfra8p0\\localcache\\local-packages\\python313\\site-packages (from -r NoteBook_UI/requirements.txt (line 28)) (1.8.12)\n",
      "Requirement already satisfied: decorator==5.1.1 in c:\\users\\david\\appdata\\local\\packages\\pythonsoftwarefoundation.python.3.13_qbz5n2kfra8p0\\localcache\\local-packages\\python313\\site-packages (from -r NoteBook_UI/requirements.txt (line 29)) (5.1.1)\n",
      "Requirement already satisfied: deepecho==0.7.0 in c:\\users\\david\\appdata\\local\\packages\\pythonsoftwarefoundation.python.3.13_qbz5n2kfra8p0\\localcache\\local-packages\\python313\\site-packages (from -r NoteBook_UI/requirements.txt (line 30)) (0.7.0)\n",
      "Requirement already satisfied: defusedxml==0.7.1 in c:\\users\\david\\appdata\\local\\packages\\pythonsoftwarefoundation.python.3.13_qbz5n2kfra8p0\\localcache\\local-packages\\python313\\site-packages (from -r NoteBook_UI/requirements.txt (line 31)) (0.7.1)\n",
      "Requirement already satisfied: docopt==0.6.2 in c:\\users\\david\\appdata\\local\\packages\\pythonsoftwarefoundation.python.3.13_qbz5n2kfra8p0\\localcache\\local-packages\\python313\\site-packages (from -r NoteBook_UI/requirements.txt (line 32)) (0.6.2)\n",
      "Requirement already satisfied: environs==14.1.1 in c:\\users\\david\\appdata\\local\\packages\\pythonsoftwarefoundation.python.3.13_qbz5n2kfra8p0\\localcache\\local-packages\\python313\\site-packages (from -r NoteBook_UI/requirements.txt (line 33)) (14.1.1)\n",
      "Requirement already satisfied: executing==2.2.0 in c:\\users\\david\\appdata\\local\\packages\\pythonsoftwarefoundation.python.3.13_qbz5n2kfra8p0\\localcache\\local-packages\\python313\\site-packages (from -r NoteBook_UI/requirements.txt (line 34)) (2.2.0)\n",
      "Requirement already satisfied: Faker==37.1.0 in c:\\users\\david\\appdata\\local\\packages\\pythonsoftwarefoundation.python.3.13_qbz5n2kfra8p0\\localcache\\local-packages\\python313\\site-packages (from -r NoteBook_UI/requirements.txt (line 35)) (37.1.0)\n",
      "Requirement already satisfied: fakestockdata==0.0.2 in c:\\users\\david\\appdata\\local\\packages\\pythonsoftwarefoundation.python.3.13_qbz5n2kfra8p0\\localcache\\local-packages\\python313\\site-packages (from -r NoteBook_UI/requirements.txt (line 36)) (0.0.2)\n",
      "Requirement already satisfied: fastjsonschema==2.21.1 in c:\\users\\david\\appdata\\local\\packages\\pythonsoftwarefoundation.python.3.13_qbz5n2kfra8p0\\localcache\\local-packages\\python313\\site-packages (from -r NoteBook_UI/requirements.txt (line 37)) (2.21.1)\n",
      "Requirement already satisfied: filelock==3.17.0 in c:\\users\\david\\appdata\\local\\packages\\pythonsoftwarefoundation.python.3.13_qbz5n2kfra8p0\\localcache\\local-packages\\python313\\site-packages (from -r NoteBook_UI/requirements.txt (line 38)) (3.17.0)\n",
      "Requirement already satisfied: fonttools==4.56.0 in c:\\users\\david\\appdata\\local\\packages\\pythonsoftwarefoundation.python.3.13_qbz5n2kfra8p0\\localcache\\local-packages\\python313\\site-packages (from -r NoteBook_UI/requirements.txt (line 39)) (4.56.0)\n",
      "Requirement already satisfied: fqdn==1.5.1 in c:\\users\\david\\appdata\\local\\packages\\pythonsoftwarefoundation.python.3.13_qbz5n2kfra8p0\\localcache\\local-packages\\python313\\site-packages (from -r NoteBook_UI/requirements.txt (line 40)) (1.5.1)\n",
      "Requirement already satisfied: fsspec==2025.2.0 in c:\\users\\david\\appdata\\local\\packages\\pythonsoftwarefoundation.python.3.13_qbz5n2kfra8p0\\localcache\\local-packages\\python313\\site-packages (from -r NoteBook_UI/requirements.txt (line 41)) (2025.2.0)\n",
      "Requirement already satisfied: git-filter-repo==2.47.0 in c:\\users\\david\\appdata\\local\\packages\\pythonsoftwarefoundation.python.3.13_qbz5n2kfra8p0\\localcache\\local-packages\\python313\\site-packages (from -r NoteBook_UI/requirements.txt (line 42)) (2.47.0)\n",
      "Requirement already satisfied: graphviz==0.20.3 in c:\\users\\david\\appdata\\local\\packages\\pythonsoftwarefoundation.python.3.13_qbz5n2kfra8p0\\localcache\\local-packages\\python313\\site-packages (from -r NoteBook_UI/requirements.txt (line 43)) (0.20.3)\n",
      "Requirement already satisfied: greenlet==3.1.1 in c:\\users\\david\\appdata\\local\\packages\\pythonsoftwarefoundation.python.3.13_qbz5n2kfra8p0\\localcache\\local-packages\\python313\\site-packages (from -r NoteBook_UI/requirements.txt (line 44)) (3.1.1)\n",
      "Requirement already satisfied: gunicorn==23.0.0 in c:\\users\\david\\appdata\\local\\packages\\pythonsoftwarefoundation.python.3.13_qbz5n2kfra8p0\\localcache\\local-packages\\python313\\site-packages (from -r NoteBook_UI/requirements.txt (line 45)) (23.0.0)\n",
      "Requirement already satisfied: h11==0.14.0 in c:\\users\\david\\appdata\\local\\packages\\pythonsoftwarefoundation.python.3.13_qbz5n2kfra8p0\\localcache\\local-packages\\python313\\site-packages (from -r NoteBook_UI/requirements.txt (line 46)) (0.14.0)\n",
      "Requirement already satisfied: httpcore==1.0.7 in c:\\users\\david\\appdata\\local\\packages\\pythonsoftwarefoundation.python.3.13_qbz5n2kfra8p0\\localcache\\local-packages\\python313\\site-packages (from -r NoteBook_UI/requirements.txt (line 47)) (1.0.7)\n",
      "Requirement already satisfied: httpx==0.28.1 in c:\\users\\david\\appdata\\local\\packages\\pythonsoftwarefoundation.python.3.13_qbz5n2kfra8p0\\localcache\\local-packages\\python313\\site-packages (from -r NoteBook_UI/requirements.txt (line 48)) (0.28.1)\n",
      "Requirement already satisfied: idna==3.10 in c:\\users\\david\\appdata\\local\\packages\\pythonsoftwarefoundation.python.3.13_qbz5n2kfra8p0\\localcache\\local-packages\\python313\\site-packages (from -r NoteBook_UI/requirements.txt (line 49)) (3.10)\n",
      "Requirement already satisfied: ipykernel==6.29.5 in c:\\users\\david\\appdata\\local\\packages\\pythonsoftwarefoundation.python.3.13_qbz5n2kfra8p0\\localcache\\local-packages\\python313\\site-packages (from -r NoteBook_UI/requirements.txt (line 50)) (6.29.5)\n",
      "Requirement already satisfied: ipython==8.32.0 in c:\\users\\david\\appdata\\local\\packages\\pythonsoftwarefoundation.python.3.13_qbz5n2kfra8p0\\localcache\\local-packages\\python313\\site-packages (from -r NoteBook_UI/requirements.txt (line 51)) (8.32.0)\n",
      "Requirement already satisfied: ipywidgets==8.1.5 in c:\\users\\david\\appdata\\local\\packages\\pythonsoftwarefoundation.python.3.13_qbz5n2kfra8p0\\localcache\\local-packages\\python313\\site-packages (from -r NoteBook_UI/requirements.txt (line 52)) (8.1.5)\n",
      "Requirement already satisfied: isoduration==20.11.0 in c:\\users\\david\\appdata\\local\\packages\\pythonsoftwarefoundation.python.3.13_qbz5n2kfra8p0\\localcache\\local-packages\\python313\\site-packages (from -r NoteBook_UI/requirements.txt (line 53)) (20.11.0)\n",
      "Requirement already satisfied: jedi==0.19.2 in c:\\users\\david\\appdata\\local\\packages\\pythonsoftwarefoundation.python.3.13_qbz5n2kfra8p0\\localcache\\local-packages\\python313\\site-packages (from -r NoteBook_UI/requirements.txt (line 54)) (0.19.2)\n",
      "Requirement already satisfied: Jinja2==3.1.5 in c:\\users\\david\\appdata\\local\\packages\\pythonsoftwarefoundation.python.3.13_qbz5n2kfra8p0\\localcache\\local-packages\\python313\\site-packages (from -r NoteBook_UI/requirements.txt (line 55)) (3.1.5)\n",
      "Requirement already satisfied: jmespath==1.0.1 in c:\\users\\david\\appdata\\local\\packages\\pythonsoftwarefoundation.python.3.13_qbz5n2kfra8p0\\localcache\\local-packages\\python313\\site-packages (from -r NoteBook_UI/requirements.txt (line 56)) (1.0.1)\n",
      "Requirement already satisfied: joblib==1.4.2 in c:\\users\\david\\appdata\\local\\packages\\pythonsoftwarefoundation.python.3.13_qbz5n2kfra8p0\\localcache\\local-packages\\python313\\site-packages (from -r NoteBook_UI/requirements.txt (line 57)) (1.4.2)\n",
      "Requirement already satisfied: json5==0.11.0 in c:\\users\\david\\appdata\\local\\packages\\pythonsoftwarefoundation.python.3.13_qbz5n2kfra8p0\\localcache\\local-packages\\python313\\site-packages (from -r NoteBook_UI/requirements.txt (line 58)) (0.11.0)\n",
      "Requirement already satisfied: jsonpointer==3.0.0 in c:\\users\\david\\appdata\\local\\packages\\pythonsoftwarefoundation.python.3.13_qbz5n2kfra8p0\\localcache\\local-packages\\python313\\site-packages (from -r NoteBook_UI/requirements.txt (line 59)) (3.0.0)\n",
      "Requirement already satisfied: jsonschema==4.23.0 in c:\\users\\david\\appdata\\local\\packages\\pythonsoftwarefoundation.python.3.13_qbz5n2kfra8p0\\localcache\\local-packages\\python313\\site-packages (from -r NoteBook_UI/requirements.txt (line 60)) (4.23.0)\n",
      "Requirement already satisfied: jsonschema-specifications==2024.10.1 in c:\\users\\david\\appdata\\local\\packages\\pythonsoftwarefoundation.python.3.13_qbz5n2kfra8p0\\localcache\\local-packages\\python313\\site-packages (from -r NoteBook_UI/requirements.txt (line 61)) (2024.10.1)\n",
      "Requirement already satisfied: jupyter-events==0.12.0 in c:\\users\\david\\appdata\\local\\packages\\pythonsoftwarefoundation.python.3.13_qbz5n2kfra8p0\\localcache\\local-packages\\python313\\site-packages (from -r NoteBook_UI/requirements.txt (line 62)) (0.12.0)\n",
      "Requirement already satisfied: jupyter-lsp==2.2.5 in c:\\users\\david\\appdata\\local\\packages\\pythonsoftwarefoundation.python.3.13_qbz5n2kfra8p0\\localcache\\local-packages\\python313\\site-packages (from -r NoteBook_UI/requirements.txt (line 63)) (2.2.5)\n",
      "Requirement already satisfied: jupyter_client==8.6.3 in c:\\users\\david\\appdata\\local\\packages\\pythonsoftwarefoundation.python.3.13_qbz5n2kfra8p0\\localcache\\local-packages\\python313\\site-packages (from -r NoteBook_UI/requirements.txt (line 64)) (8.6.3)\n",
      "Requirement already satisfied: jupyter_core==5.7.2 in c:\\users\\david\\appdata\\local\\packages\\pythonsoftwarefoundation.python.3.13_qbz5n2kfra8p0\\localcache\\local-packages\\python313\\site-packages (from -r NoteBook_UI/requirements.txt (line 65)) (5.7.2)\n",
      "Requirement already satisfied: jupyter_server==2.15.0 in c:\\users\\david\\appdata\\local\\packages\\pythonsoftwarefoundation.python.3.13_qbz5n2kfra8p0\\localcache\\local-packages\\python313\\site-packages (from -r NoteBook_UI/requirements.txt (line 66)) (2.15.0)\n",
      "Requirement already satisfied: jupyter_server_terminals==0.5.3 in c:\\users\\david\\appdata\\local\\packages\\pythonsoftwarefoundation.python.3.13_qbz5n2kfra8p0\\localcache\\local-packages\\python313\\site-packages (from -r NoteBook_UI/requirements.txt (line 67)) (0.5.3)\n",
      "Requirement already satisfied: jupyterlab==4.3.6 in c:\\users\\david\\appdata\\local\\packages\\pythonsoftwarefoundation.python.3.13_qbz5n2kfra8p0\\localcache\\local-packages\\python313\\site-packages (from -r NoteBook_UI/requirements.txt (line 68)) (4.3.6)\n",
      "Requirement already satisfied: jupyterlab_pygments==0.3.0 in c:\\users\\david\\appdata\\local\\packages\\pythonsoftwarefoundation.python.3.13_qbz5n2kfra8p0\\localcache\\local-packages\\python313\\site-packages (from -r NoteBook_UI/requirements.txt (line 69)) (0.3.0)\n",
      "Requirement already satisfied: jupyterlab_server==2.27.3 in c:\\users\\david\\appdata\\local\\packages\\pythonsoftwarefoundation.python.3.13_qbz5n2kfra8p0\\localcache\\local-packages\\python313\\site-packages (from -r NoteBook_UI/requirements.txt (line 70)) (2.27.3)\n",
      "Requirement already satisfied: jupyterlab_widgets==3.0.13 in c:\\users\\david\\appdata\\local\\packages\\pythonsoftwarefoundation.python.3.13_qbz5n2kfra8p0\\localcache\\local-packages\\python313\\site-packages (from -r NoteBook_UI/requirements.txt (line 71)) (3.0.13)\n",
      "Requirement already satisfied: kaggle==1.6.17 in c:\\users\\david\\appdata\\local\\packages\\pythonsoftwarefoundation.python.3.13_qbz5n2kfra8p0\\localcache\\local-packages\\python313\\site-packages (from -r NoteBook_UI/requirements.txt (line 72)) (1.6.17)\n",
      "Requirement already satisfied: kagglehub==0.3.10 in c:\\users\\david\\appdata\\local\\packages\\pythonsoftwarefoundation.python.3.13_qbz5n2kfra8p0\\localcache\\local-packages\\python313\\site-packages (from -r NoteBook_UI/requirements.txt (line 73)) (0.3.10)\n",
      "Requirement already satisfied: kiwisolver==1.4.8 in c:\\users\\david\\appdata\\local\\packages\\pythonsoftwarefoundation.python.3.13_qbz5n2kfra8p0\\localcache\\local-packages\\python313\\site-packages (from -r NoteBook_UI/requirements.txt (line 74)) (1.4.8)\n",
      "Requirement already satisfied: llvmlite==0.44.0 in c:\\users\\david\\appdata\\local\\packages\\pythonsoftwarefoundation.python.3.13_qbz5n2kfra8p0\\localcache\\local-packages\\python313\\site-packages (from -r NoteBook_UI/requirements.txt (line 75)) (0.44.0)\n",
      "Requirement already satisfied: markdown-it-py==3.0.0 in c:\\users\\david\\appdata\\local\\packages\\pythonsoftwarefoundation.python.3.13_qbz5n2kfra8p0\\localcache\\local-packages\\python313\\site-packages (from -r NoteBook_UI/requirements.txt (line 76)) (3.0.0)\n",
      "Requirement already satisfied: MarkupSafe==3.0.2 in c:\\users\\david\\appdata\\local\\packages\\pythonsoftwarefoundation.python.3.13_qbz5n2kfra8p0\\localcache\\local-packages\\python313\\site-packages (from -r NoteBook_UI/requirements.txt (line 77)) (3.0.2)\n",
      "Requirement already satisfied: marshmallow==3.26.1 in c:\\users\\david\\appdata\\local\\packages\\pythonsoftwarefoundation.python.3.13_qbz5n2kfra8p0\\localcache\\local-packages\\python313\\site-packages (from -r NoteBook_UI/requirements.txt (line 78)) (3.26.1)\n",
      "Requirement already satisfied: matplotlib==3.10.0 in c:\\users\\david\\appdata\\local\\packages\\pythonsoftwarefoundation.python.3.13_qbz5n2kfra8p0\\localcache\\local-packages\\python313\\site-packages (from -r NoteBook_UI/requirements.txt (line 79)) (3.10.0)\n",
      "Requirement already satisfied: matplotlib-inline==0.1.7 in c:\\users\\david\\appdata\\local\\packages\\pythonsoftwarefoundation.python.3.13_qbz5n2kfra8p0\\localcache\\local-packages\\python313\\site-packages (from -r NoteBook_UI/requirements.txt (line 80)) (0.1.7)\n",
      "Requirement already satisfied: mdurl==0.1.2 in c:\\users\\david\\appdata\\local\\packages\\pythonsoftwarefoundation.python.3.13_qbz5n2kfra8p0\\localcache\\local-packages\\python313\\site-packages (from -r NoteBook_UI/requirements.txt (line 81)) (0.1.2)\n",
      "Requirement already satisfied: mistune==3.1.3 in c:\\users\\david\\appdata\\local\\packages\\pythonsoftwarefoundation.python.3.13_qbz5n2kfra8p0\\localcache\\local-packages\\python313\\site-packages (from -r NoteBook_UI/requirements.txt (line 82)) (3.1.3)\n",
      "Requirement already satisfied: mostlyai==4.4.2 in c:\\users\\david\\appdata\\local\\packages\\pythonsoftwarefoundation.python.3.13_qbz5n2kfra8p0\\localcache\\local-packages\\python313\\site-packages (from -r NoteBook_UI/requirements.txt (line 83)) (4.4.2)\n",
      "Requirement already satisfied: mpmath==1.3.0 in c:\\users\\david\\appdata\\local\\packages\\pythonsoftwarefoundation.python.3.13_qbz5n2kfra8p0\\localcache\\local-packages\\python313\\site-packages (from -r NoteBook_UI/requirements.txt (line 84)) (1.3.0)\n",
      "Requirement already satisfied: narwhals==1.32.0 in c:\\users\\david\\appdata\\local\\packages\\pythonsoftwarefoundation.python.3.13_qbz5n2kfra8p0\\localcache\\local-packages\\python313\\site-packages (from -r NoteBook_UI/requirements.txt (line 85)) (1.32.0)\n",
      "Requirement already satisfied: nbclient==0.10.2 in c:\\users\\david\\appdata\\local\\packages\\pythonsoftwarefoundation.python.3.13_qbz5n2kfra8p0\\localcache\\local-packages\\python313\\site-packages (from -r NoteBook_UI/requirements.txt (line 86)) (0.10.2)\n",
      "Requirement already satisfied: nbconvert==7.16.6 in c:\\users\\david\\appdata\\local\\packages\\pythonsoftwarefoundation.python.3.13_qbz5n2kfra8p0\\localcache\\local-packages\\python313\\site-packages (from -r NoteBook_UI/requirements.txt (line 87)) (7.16.6)\n",
      "Requirement already satisfied: nbformat==5.10.4 in c:\\users\\david\\appdata\\local\\packages\\pythonsoftwarefoundation.python.3.13_qbz5n2kfra8p0\\localcache\\local-packages\\python313\\site-packages (from -r NoteBook_UI/requirements.txt (line 88)) (5.10.4)\n",
      "Requirement already satisfied: nest-asyncio==1.6.0 in c:\\users\\david\\appdata\\local\\packages\\pythonsoftwarefoundation.python.3.13_qbz5n2kfra8p0\\localcache\\local-packages\\python313\\site-packages (from -r NoteBook_UI/requirements.txt (line 89)) (1.6.0)\n",
      "Requirement already satisfied: networkx==3.4.2 in c:\\users\\david\\appdata\\local\\packages\\pythonsoftwarefoundation.python.3.13_qbz5n2kfra8p0\\localcache\\local-packages\\python313\\site-packages (from -r NoteBook_UI/requirements.txt (line 90)) (3.4.2)\n",
      "Requirement already satisfied: notebook==7.3.3 in c:\\users\\david\\appdata\\local\\packages\\pythonsoftwarefoundation.python.3.13_qbz5n2kfra8p0\\localcache\\local-packages\\python313\\site-packages (from -r NoteBook_UI/requirements.txt (line 91)) (7.3.3)\n",
      "Requirement already satisfied: notebook_shim==0.2.4 in c:\\users\\david\\appdata\\local\\packages\\pythonsoftwarefoundation.python.3.13_qbz5n2kfra8p0\\localcache\\local-packages\\python313\\site-packages (from -r NoteBook_UI/requirements.txt (line 92)) (0.2.4)\n",
      "Requirement already satisfied: numba==0.61.0 in c:\\users\\david\\appdata\\local\\packages\\pythonsoftwarefoundation.python.3.13_qbz5n2kfra8p0\\localcache\\local-packages\\python313\\site-packages (from -r NoteBook_UI/requirements.txt (line 93)) (0.61.0)\n",
      "Requirement already satisfied: numpy==2.1.3 in c:\\users\\david\\appdata\\local\\packages\\pythonsoftwarefoundation.python.3.13_qbz5n2kfra8p0\\localcache\\local-packages\\python313\\site-packages (from -r NoteBook_UI/requirements.txt (line 94)) (2.1.3)\n",
      "Requirement already satisfied: overrides==7.7.0 in c:\\users\\david\\appdata\\local\\packages\\pythonsoftwarefoundation.python.3.13_qbz5n2kfra8p0\\localcache\\local-packages\\python313\\site-packages (from -r NoteBook_UI/requirements.txt (line 95)) (7.7.0)\n",
      "Requirement already satisfied: packaging==24.2 in c:\\users\\david\\appdata\\local\\packages\\pythonsoftwarefoundation.python.3.13_qbz5n2kfra8p0\\localcache\\local-packages\\python313\\site-packages (from -r NoteBook_UI/requirements.txt (line 96)) (24.2)\n",
      "Requirement already satisfied: pandas==2.2.3 in c:\\users\\david\\appdata\\local\\packages\\pythonsoftwarefoundation.python.3.13_qbz5n2kfra8p0\\localcache\\local-packages\\python313\\site-packages (from -r NoteBook_UI/requirements.txt (line 97)) (2.2.3)\n",
      "Requirement already satisfied: pandocfilters==1.5.1 in c:\\users\\david\\appdata\\local\\packages\\pythonsoftwarefoundation.python.3.13_qbz5n2kfra8p0\\localcache\\local-packages\\python313\\site-packages (from -r NoteBook_UI/requirements.txt (line 98)) (1.5.1)\n",
      "Requirement already satisfied: parso==0.8.4 in c:\\users\\david\\appdata\\local\\packages\\pythonsoftwarefoundation.python.3.13_qbz5n2kfra8p0\\localcache\\local-packages\\python313\\site-packages (from -r NoteBook_UI/requirements.txt (line 99)) (0.8.4)\n",
      "Requirement already satisfied: pillow==11.1.0 in c:\\users\\david\\appdata\\local\\packages\\pythonsoftwarefoundation.python.3.13_qbz5n2kfra8p0\\localcache\\local-packages\\python313\\site-packages (from -r NoteBook_UI/requirements.txt (line 100)) (11.1.0)\n",
      "Requirement already satisfied: pipreqs==0.4.13 in c:\\users\\david\\appdata\\local\\packages\\pythonsoftwarefoundation.python.3.13_qbz5n2kfra8p0\\localcache\\local-packages\\python313\\site-packages (from -r NoteBook_UI/requirements.txt (line 101)) (0.4.13)\n",
      "Requirement already satisfied: platformdirs==4.3.6 in c:\\users\\david\\appdata\\local\\packages\\pythonsoftwarefoundation.python.3.13_qbz5n2kfra8p0\\localcache\\local-packages\\python313\\site-packages (from -r NoteBook_UI/requirements.txt (line 102)) (4.3.6)\n",
      "Requirement already satisfied: plotly==6.0.1 in c:\\users\\david\\appdata\\local\\packages\\pythonsoftwarefoundation.python.3.13_qbz5n2kfra8p0\\localcache\\local-packages\\python313\\site-packages (from -r NoteBook_UI/requirements.txt (line 103)) (6.0.1)\n",
      "Requirement already satisfied: prometheus_client==0.21.1 in c:\\users\\david\\appdata\\local\\packages\\pythonsoftwarefoundation.python.3.13_qbz5n2kfra8p0\\localcache\\local-packages\\python313\\site-packages (from -r NoteBook_UI/requirements.txt (line 104)) (0.21.1)\n",
      "Requirement already satisfied: prompt_toolkit==3.0.50 in c:\\users\\david\\appdata\\local\\packages\\pythonsoftwarefoundation.python.3.13_qbz5n2kfra8p0\\localcache\\local-packages\\python313\\site-packages (from -r NoteBook_UI/requirements.txt (line 105)) (3.0.50)\n",
      "Requirement already satisfied: psutil==6.1.1 in c:\\users\\david\\appdata\\local\\packages\\pythonsoftwarefoundation.python.3.13_qbz5n2kfra8p0\\localcache\\local-packages\\python313\\site-packages (from -r NoteBook_UI/requirements.txt (line 106)) (6.1.1)\n",
      "Requirement already satisfied: pure_eval==0.2.3 in c:\\users\\david\\appdata\\local\\packages\\pythonsoftwarefoundation.python.3.13_qbz5n2kfra8p0\\localcache\\local-packages\\python313\\site-packages (from -r NoteBook_UI/requirements.txt (line 107)) (0.2.3)\n",
      "Requirement already satisfied: pyarrow==19.0.1 in c:\\users\\david\\appdata\\local\\packages\\pythonsoftwarefoundation.python.3.13_qbz5n2kfra8p0\\localcache\\local-packages\\python313\\site-packages (from -r NoteBook_UI/requirements.txt (line 108)) (19.0.1)\n",
      "Requirement already satisfied: pycparser==2.22 in c:\\users\\david\\appdata\\local\\packages\\pythonsoftwarefoundation.python.3.13_qbz5n2kfra8p0\\localcache\\local-packages\\python313\\site-packages (from -r NoteBook_UI/requirements.txt (line 109)) (2.22)\n",
      "Requirement already satisfied: pycryptodomex==3.22.0 in c:\\users\\david\\appdata\\local\\packages\\pythonsoftwarefoundation.python.3.13_qbz5n2kfra8p0\\localcache\\local-packages\\python313\\site-packages (from -r NoteBook_UI/requirements.txt (line 110)) (3.22.0)\n",
      "Requirement already satisfied: pydantic==2.11.0 in c:\\users\\david\\appdata\\local\\packages\\pythonsoftwarefoundation.python.3.13_qbz5n2kfra8p0\\localcache\\local-packages\\python313\\site-packages (from -r NoteBook_UI/requirements.txt (line 111)) (2.11.0)\n",
      "Requirement already satisfied: pydantic_core==2.33.0 in c:\\users\\david\\appdata\\local\\packages\\pythonsoftwarefoundation.python.3.13_qbz5n2kfra8p0\\localcache\\local-packages\\python313\\site-packages (from -r NoteBook_UI/requirements.txt (line 112)) (2.33.0)\n",
      "Requirement already satisfied: Pygments==2.19.1 in c:\\users\\david\\appdata\\local\\packages\\pythonsoftwarefoundation.python.3.13_qbz5n2kfra8p0\\localcache\\local-packages\\python313\\site-packages (from -r NoteBook_UI/requirements.txt (line 113)) (2.19.1)\n",
      "Requirement already satisfied: pynndescent==0.5.13 in c:\\users\\david\\appdata\\local\\packages\\pythonsoftwarefoundation.python.3.13_qbz5n2kfra8p0\\localcache\\local-packages\\python313\\site-packages (from -r NoteBook_UI/requirements.txt (line 114)) (0.5.13)\n",
      "Requirement already satisfied: pyparsing==3.2.1 in c:\\users\\david\\appdata\\local\\packages\\pythonsoftwarefoundation.python.3.13_qbz5n2kfra8p0\\localcache\\local-packages\\python313\\site-packages (from -r NoteBook_UI/requirements.txt (line 115)) (3.2.1)\n",
      "Requirement already satisfied: python-dateutil==2.9.0.post0 in c:\\users\\david\\appdata\\local\\packages\\pythonsoftwarefoundation.python.3.13_qbz5n2kfra8p0\\localcache\\local-packages\\python313\\site-packages (from -r NoteBook_UI/requirements.txt (line 116)) (2.9.0.post0)\n",
      "Requirement already satisfied: python-dotenv==1.1.0 in c:\\users\\david\\appdata\\local\\packages\\pythonsoftwarefoundation.python.3.13_qbz5n2kfra8p0\\localcache\\local-packages\\python313\\site-packages (from -r NoteBook_UI/requirements.txt (line 117)) (1.1.0)\n",
      "Requirement already satisfied: python-json-logger==3.3.0 in c:\\users\\david\\appdata\\local\\packages\\pythonsoftwarefoundation.python.3.13_qbz5n2kfra8p0\\localcache\\local-packages\\python313\\site-packages (from -r NoteBook_UI/requirements.txt (line 118)) (3.3.0)\n",
      "Requirement already satisfied: python-slugify==8.0.4 in c:\\users\\david\\appdata\\local\\packages\\pythonsoftwarefoundation.python.3.13_qbz5n2kfra8p0\\localcache\\local-packages\\python313\\site-packages (from -r NoteBook_UI/requirements.txt (line 119)) (8.0.4)\n",
      "Requirement already satisfied: pytz==2025.1 in c:\\users\\david\\appdata\\local\\packages\\pythonsoftwarefoundation.python.3.13_qbz5n2kfra8p0\\localcache\\local-packages\\python313\\site-packages (from -r NoteBook_UI/requirements.txt (line 120)) (2025.1)\n",
      "Requirement already satisfied: pywin32==308 in c:\\users\\david\\appdata\\local\\packages\\pythonsoftwarefoundation.python.3.13_qbz5n2kfra8p0\\localcache\\local-packages\\python313\\site-packages (from -r NoteBook_UI/requirements.txt (line 121)) (308)\n",
      "Requirement already satisfied: pywinpty==2.0.15 in c:\\users\\david\\appdata\\local\\packages\\pythonsoftwarefoundation.python.3.13_qbz5n2kfra8p0\\localcache\\local-packages\\python313\\site-packages (from -r NoteBook_UI/requirements.txt (line 122)) (2.0.15)\n",
      "Requirement already satisfied: PyYAML==6.0.2 in c:\\users\\david\\appdata\\local\\packages\\pythonsoftwarefoundation.python.3.13_qbz5n2kfra8p0\\localcache\\local-packages\\python313\\site-packages (from -r NoteBook_UI/requirements.txt (line 123)) (6.0.2)\n",
      "Requirement already satisfied: pyzmq==26.2.1 in c:\\users\\david\\appdata\\local\\packages\\pythonsoftwarefoundation.python.3.13_qbz5n2kfra8p0\\localcache\\local-packages\\python313\\site-packages (from -r NoteBook_UI/requirements.txt (line 124)) (26.2.1)\n",
      "Requirement already satisfied: rdt==1.15.0 in c:\\users\\david\\appdata\\local\\packages\\pythonsoftwarefoundation.python.3.13_qbz5n2kfra8p0\\localcache\\local-packages\\python313\\site-packages (from -r NoteBook_UI/requirements.txt (line 125)) (1.15.0)\n",
      "Requirement already satisfied: referencing==0.36.2 in c:\\users\\david\\appdata\\local\\packages\\pythonsoftwarefoundation.python.3.13_qbz5n2kfra8p0\\localcache\\local-packages\\python313\\site-packages (from -r NoteBook_UI/requirements.txt (line 126)) (0.36.2)\n",
      "Requirement already satisfied: requests==2.32.3 in c:\\users\\david\\appdata\\local\\packages\\pythonsoftwarefoundation.python.3.13_qbz5n2kfra8p0\\localcache\\local-packages\\python313\\site-packages (from -r NoteBook_UI/requirements.txt (line 127)) (2.32.3)\n",
      "Requirement already satisfied: rfc3339-validator==0.1.4 in c:\\users\\david\\appdata\\local\\packages\\pythonsoftwarefoundation.python.3.13_qbz5n2kfra8p0\\localcache\\local-packages\\python313\\site-packages (from -r NoteBook_UI/requirements.txt (line 128)) (0.1.4)\n",
      "Requirement already satisfied: rfc3986-validator==0.1.1 in c:\\users\\david\\appdata\\local\\packages\\pythonsoftwarefoundation.python.3.13_qbz5n2kfra8p0\\localcache\\local-packages\\python313\\site-packages (from -r NoteBook_UI/requirements.txt (line 129)) (0.1.1)\n",
      "Requirement already satisfied: rich==13.9.4 in c:\\users\\david\\appdata\\local\\packages\\pythonsoftwarefoundation.python.3.13_qbz5n2kfra8p0\\localcache\\local-packages\\python313\\site-packages (from -r NoteBook_UI/requirements.txt (line 130)) (13.9.4)\n",
      "Requirement already satisfied: rpds-py==0.24.0 in c:\\users\\david\\appdata\\local\\packages\\pythonsoftwarefoundation.python.3.13_qbz5n2kfra8p0\\localcache\\local-packages\\python313\\site-packages (from -r NoteBook_UI/requirements.txt (line 131)) (0.24.0)\n",
      "Requirement already satisfied: s3transfer==0.11.4 in c:\\users\\david\\appdata\\local\\packages\\pythonsoftwarefoundation.python.3.13_qbz5n2kfra8p0\\localcache\\local-packages\\python313\\site-packages (from -r NoteBook_UI/requirements.txt (line 132)) (0.11.4)\n",
      "Requirement already satisfied: schema==0.7.7 in c:\\users\\david\\appdata\\local\\packages\\pythonsoftwarefoundation.python.3.13_qbz5n2kfra8p0\\localcache\\local-packages\\python313\\site-packages (from -r NoteBook_UI/requirements.txt (line 133)) (0.7.7)\n",
      "Requirement already satisfied: scikit-learn==1.6.1 in c:\\users\\david\\appdata\\local\\packages\\pythonsoftwarefoundation.python.3.13_qbz5n2kfra8p0\\localcache\\local-packages\\python313\\site-packages (from -r NoteBook_UI/requirements.txt (line 134)) (1.6.1)\n",
      "Requirement already satisfied: scipy==1.15.1 in c:\\users\\david\\appdata\\local\\packages\\pythonsoftwarefoundation.python.3.13_qbz5n2kfra8p0\\localcache\\local-packages\\python313\\site-packages (from -r NoteBook_UI/requirements.txt (line 135)) (1.15.1)\n",
      "Requirement already satisfied: sdmetrics==0.19.0 in c:\\users\\david\\appdata\\local\\packages\\pythonsoftwarefoundation.python.3.13_qbz5n2kfra8p0\\localcache\\local-packages\\python313\\site-packages (from -r NoteBook_UI/requirements.txt (line 136)) (0.19.0)\n",
      "Requirement already satisfied: sdv==1.19.0 in c:\\users\\david\\appdata\\local\\packages\\pythonsoftwarefoundation.python.3.13_qbz5n2kfra8p0\\localcache\\local-packages\\python313\\site-packages (from -r NoteBook_UI/requirements.txt (line 137)) (1.19.0)\n",
      "Requirement already satisfied: seaborn==0.13.2 in c:\\users\\david\\appdata\\local\\packages\\pythonsoftwarefoundation.python.3.13_qbz5n2kfra8p0\\localcache\\local-packages\\python313\\site-packages (from -r NoteBook_UI/requirements.txt (line 138)) (0.13.2)\n",
      "Requirement already satisfied: semantic-version==2.10.0 in c:\\users\\david\\appdata\\local\\packages\\pythonsoftwarefoundation.python.3.13_qbz5n2kfra8p0\\localcache\\local-packages\\python313\\site-packages (from -r NoteBook_UI/requirements.txt (line 139)) (2.10.0)\n",
      "Requirement already satisfied: Send2Trash==1.8.3 in c:\\users\\david\\appdata\\local\\packages\\pythonsoftwarefoundation.python.3.13_qbz5n2kfra8p0\\localcache\\local-packages\\python313\\site-packages (from -r NoteBook_UI/requirements.txt (line 140)) (1.8.3)\n",
      "Requirement already satisfied: setuptools==75.8.0 in c:\\users\\david\\appdata\\local\\packages\\pythonsoftwarefoundation.python.3.13_qbz5n2kfra8p0\\localcache\\local-packages\\python313\\site-packages (from -r NoteBook_UI/requirements.txt (line 141)) (75.8.0)\n",
      "Requirement already satisfied: shellingham==1.5.4 in c:\\users\\david\\appdata\\local\\packages\\pythonsoftwarefoundation.python.3.13_qbz5n2kfra8p0\\localcache\\local-packages\\python313\\site-packages (from -r NoteBook_UI/requirements.txt (line 142)) (1.5.4)\n",
      "Requirement already satisfied: six==1.17.0 in c:\\users\\david\\appdata\\local\\packages\\pythonsoftwarefoundation.python.3.13_qbz5n2kfra8p0\\localcache\\local-packages\\python313\\site-packages (from -r NoteBook_UI/requirements.txt (line 143)) (1.17.0)\n",
      "Requirement already satisfied: smart-open==7.1.0 in c:\\users\\david\\appdata\\local\\packages\\pythonsoftwarefoundation.python.3.13_qbz5n2kfra8p0\\localcache\\local-packages\\python313\\site-packages (from -r NoteBook_UI/requirements.txt (line 144)) (7.1.0)\n",
      "Requirement already satisfied: sniffio==1.3.1 in c:\\users\\david\\appdata\\local\\packages\\pythonsoftwarefoundation.python.3.13_qbz5n2kfra8p0\\localcache\\local-packages\\python313\\site-packages (from -r NoteBook_UI/requirements.txt (line 145)) (1.3.1)\n",
      "Requirement already satisfied: soupsieve==2.6 in c:\\users\\david\\appdata\\local\\packages\\pythonsoftwarefoundation.python.3.13_qbz5n2kfra8p0\\localcache\\local-packages\\python313\\site-packages (from -r NoteBook_UI/requirements.txt (line 146)) (2.6)\n",
      "Requirement already satisfied: stack-data==0.6.3 in c:\\users\\david\\appdata\\local\\packages\\pythonsoftwarefoundation.python.3.13_qbz5n2kfra8p0\\localcache\\local-packages\\python313\\site-packages (from -r NoteBook_UI/requirements.txt (line 147)) (0.6.3)\n",
      "Requirement already satisfied: sympy==1.13.1 in c:\\users\\david\\appdata\\local\\packages\\pythonsoftwarefoundation.python.3.13_qbz5n2kfra8p0\\localcache\\local-packages\\python313\\site-packages (from -r NoteBook_UI/requirements.txt (line 148)) (1.13.1)\n",
      "Requirement already satisfied: tenacity==8.5.0 in c:\\users\\david\\appdata\\local\\packages\\pythonsoftwarefoundation.python.3.13_qbz5n2kfra8p0\\localcache\\local-packages\\python313\\site-packages (from -r NoteBook_UI/requirements.txt (line 149)) (8.5.0)\n",
      "Requirement already satisfied: terminado==0.18.1 in c:\\users\\david\\appdata\\local\\packages\\pythonsoftwarefoundation.python.3.13_qbz5n2kfra8p0\\localcache\\local-packages\\python313\\site-packages (from -r NoteBook_UI/requirements.txt (line 150)) (0.18.1)\n",
      "Requirement already satisfied: text-unidecode==1.3 in c:\\users\\david\\appdata\\local\\packages\\pythonsoftwarefoundation.python.3.13_qbz5n2kfra8p0\\localcache\\local-packages\\python313\\site-packages (from -r NoteBook_UI/requirements.txt (line 151)) (1.3)\n",
      "Requirement already satisfied: threadpoolctl==3.5.0 in c:\\users\\david\\appdata\\local\\packages\\pythonsoftwarefoundation.python.3.13_qbz5n2kfra8p0\\localcache\\local-packages\\python313\\site-packages (from -r NoteBook_UI/requirements.txt (line 152)) (3.5.0)\n",
      "Requirement already satisfied: tinycss2==1.4.0 in c:\\users\\david\\appdata\\local\\packages\\pythonsoftwarefoundation.python.3.13_qbz5n2kfra8p0\\localcache\\local-packages\\python313\\site-packages (from -r NoteBook_UI/requirements.txt (line 153)) (1.4.0)\n",
      "Requirement already satisfied: torch==2.6.0 in c:\\users\\david\\appdata\\local\\packages\\pythonsoftwarefoundation.python.3.13_qbz5n2kfra8p0\\localcache\\local-packages\\python313\\site-packages (from -r NoteBook_UI/requirements.txt (line 154)) (2.6.0)\n",
      "Requirement already satisfied: torchaudio==2.6.0 in c:\\users\\david\\appdata\\local\\packages\\pythonsoftwarefoundation.python.3.13_qbz5n2kfra8p0\\localcache\\local-packages\\python313\\site-packages (from -r NoteBook_UI/requirements.txt (line 155)) (2.6.0)\n",
      "Requirement already satisfied: torchvision==0.21.0 in c:\\users\\david\\appdata\\local\\packages\\pythonsoftwarefoundation.python.3.13_qbz5n2kfra8p0\\localcache\\local-packages\\python313\\site-packages (from -r NoteBook_UI/requirements.txt (line 156)) (0.21.0)\n",
      "Requirement already satisfied: tornado==6.4.2 in c:\\users\\david\\appdata\\local\\packages\\pythonsoftwarefoundation.python.3.13_qbz5n2kfra8p0\\localcache\\local-packages\\python313\\site-packages (from -r NoteBook_UI/requirements.txt (line 157)) (6.4.2)\n",
      "Requirement already satisfied: tqdm==4.67.1 in c:\\users\\david\\appdata\\local\\packages\\pythonsoftwarefoundation.python.3.13_qbz5n2kfra8p0\\localcache\\local-packages\\python313\\site-packages (from -r NoteBook_UI/requirements.txt (line 158)) (4.67.1)\n",
      "Requirement already satisfied: traitlets==5.14.3 in c:\\users\\david\\appdata\\local\\packages\\pythonsoftwarefoundation.python.3.13_qbz5n2kfra8p0\\localcache\\local-packages\\python313\\site-packages (from -r NoteBook_UI/requirements.txt (line 159)) (5.14.3)\n",
      "Requirement already satisfied: typer==0.15.2 in c:\\users\\david\\appdata\\local\\packages\\pythonsoftwarefoundation.python.3.13_qbz5n2kfra8p0\\localcache\\local-packages\\python313\\site-packages (from -r NoteBook_UI/requirements.txt (line 160)) (0.15.2)\n",
      "Requirement already satisfied: types-python-dateutil==2.9.0.20241206 in c:\\users\\david\\appdata\\local\\packages\\pythonsoftwarefoundation.python.3.13_qbz5n2kfra8p0\\localcache\\local-packages\\python313\\site-packages (from -r NoteBook_UI/requirements.txt (line 161)) (2.9.0.20241206)\n",
      "Requirement already satisfied: typing-inspection==0.4.0 in c:\\users\\david\\appdata\\local\\packages\\pythonsoftwarefoundation.python.3.13_qbz5n2kfra8p0\\localcache\\local-packages\\python313\\site-packages (from -r NoteBook_UI/requirements.txt (line 162)) (0.4.0)\n",
      "Requirement already satisfied: typing_extensions==4.12.2 in c:\\users\\david\\appdata\\local\\packages\\pythonsoftwarefoundation.python.3.13_qbz5n2kfra8p0\\localcache\\local-packages\\python313\\site-packages (from -r NoteBook_UI/requirements.txt (line 163)) (4.12.2)\n",
      "Requirement already satisfied: tzdata==2025.1 in c:\\users\\david\\appdata\\local\\packages\\pythonsoftwarefoundation.python.3.13_qbz5n2kfra8p0\\localcache\\local-packages\\python313\\site-packages (from -r NoteBook_UI/requirements.txt (line 164)) (2025.1)\n",
      "Requirement already satisfied: ugly_csv_generator==1.1.4 in c:\\users\\david\\appdata\\local\\packages\\pythonsoftwarefoundation.python.3.13_qbz5n2kfra8p0\\localcache\\local-packages\\python313\\site-packages (from -r NoteBook_UI/requirements.txt (line 165)) (1.1.4)\n",
      "Requirement already satisfied: umap-learn==0.5.7 in c:\\users\\david\\appdata\\local\\packages\\pythonsoftwarefoundation.python.3.13_qbz5n2kfra8p0\\localcache\\local-packages\\python313\\site-packages (from -r NoteBook_UI/requirements.txt (line 166)) (0.5.7)\n",
      "Requirement already satisfied: uri-template==1.3.0 in c:\\users\\david\\appdata\\local\\packages\\pythonsoftwarefoundation.python.3.13_qbz5n2kfra8p0\\localcache\\local-packages\\python313\\site-packages (from -r NoteBook_UI/requirements.txt (line 167)) (1.3.0)\n",
      "Requirement already satisfied: urllib3==2.3.0 in c:\\users\\david\\appdata\\local\\packages\\pythonsoftwarefoundation.python.3.13_qbz5n2kfra8p0\\localcache\\local-packages\\python313\\site-packages (from -r NoteBook_UI/requirements.txt (line 168)) (2.3.0)\n",
      "Requirement already satisfied: wcwidth==0.2.13 in c:\\users\\david\\appdata\\local\\packages\\pythonsoftwarefoundation.python.3.13_qbz5n2kfra8p0\\localcache\\local-packages\\python313\\site-packages (from -r NoteBook_UI/requirements.txt (line 169)) (0.2.13)\n",
      "Requirement already satisfied: webcolors==24.11.1 in c:\\users\\david\\appdata\\local\\packages\\pythonsoftwarefoundation.python.3.13_qbz5n2kfra8p0\\localcache\\local-packages\\python313\\site-packages (from -r NoteBook_UI/requirements.txt (line 170)) (24.11.1)\n",
      "Requirement already satisfied: webencodings==0.5.1 in c:\\users\\david\\appdata\\local\\packages\\pythonsoftwarefoundation.python.3.13_qbz5n2kfra8p0\\localcache\\local-packages\\python313\\site-packages (from -r NoteBook_UI/requirements.txt (line 171)) (0.5.1)\n",
      "Requirement already satisfied: websocket-client==1.8.0 in c:\\users\\david\\appdata\\local\\packages\\pythonsoftwarefoundation.python.3.13_qbz5n2kfra8p0\\localcache\\local-packages\\python313\\site-packages (from -r NoteBook_UI/requirements.txt (line 172)) (1.8.0)\n",
      "Requirement already satisfied: widgetsnbextension==4.0.13 in c:\\users\\david\\appdata\\local\\packages\\pythonsoftwarefoundation.python.3.13_qbz5n2kfra8p0\\localcache\\local-packages\\python313\\site-packages (from -r NoteBook_UI/requirements.txt (line 173)) (4.0.13)\n",
      "Requirement already satisfied: wrapt==1.17.2 in c:\\users\\david\\appdata\\local\\packages\\pythonsoftwarefoundation.python.3.13_qbz5n2kfra8p0\\localcache\\local-packages\\python313\\site-packages (from -r NoteBook_UI/requirements.txt (line 174)) (1.17.2)\n",
      "Requirement already satisfied: xxhash==3.5.0 in c:\\users\\david\\appdata\\local\\packages\\pythonsoftwarefoundation.python.3.13_qbz5n2kfra8p0\\localcache\\local-packages\\python313\\site-packages (from -r NoteBook_UI/requirements.txt (line 175)) (3.5.0)\n",
      "Requirement already satisfied: yarg==0.1.10 in c:\\users\\david\\appdata\\local\\packages\\pythonsoftwarefoundation.python.3.13_qbz5n2kfra8p0\\localcache\\local-packages\\python313\\site-packages (from -r NoteBook_UI/requirements.txt (line 176)) (0.1.10)\n",
      "Note: you may need to restart the kernel to use updated packages.\n"
     ]
    }
   ],
   "source": [
    "%pip install -r NoteBook_UI/requirements.txt"
   ]
  },
  {
   "cell_type": "markdown",
   "metadata": {},
   "source": [
    "1. Step Set the run configuration.\n",
    "Be sure to set java memory not over your usable RAM\n",
    "If Metanome fails, be sure to use JAVA Version 18.0.2.1"
   ]
  },
  {
   "cell_type": "code",
   "execution_count": null,
   "metadata": {},
   "outputs": [
    {
     "data": {
      "application/vnd.jupyter.widget-view+json": {
       "model_id": "575bb0177a2340a68c80aa24101ee399",
       "version_major": 2,
       "version_minor": 0
      },
      "text/plain": [
       "Dropdown(description='Select Model:', options=('random_forest_grid_search.pkl', 'random_forest_s500_n1_d20.pkl…"
      ]
     },
     "metadata": {},
     "output_type": "display_data"
    },
    {
     "data": {
      "application/vnd.jupyter.widget-view+json": {
       "model_id": "be10d22032024ce2a6a0b55d6b3311fa",
       "version_major": 2,
       "version_minor": 0
      },
      "text/plain": [
       "Button(description='Update Config', style=ButtonStyle())"
      ]
     },
     "metadata": {},
     "output_type": "display_data"
    },
    {
     "data": {
      "application/vnd.jupyter.widget-view+json": {
       "model_id": "83ca421058984cdcad23ab73f761f19e",
       "version_major": 2,
       "version_minor": 0
      },
      "text/plain": [
       "Output()"
      ]
     },
     "metadata": {},
     "output_type": "display_data"
    }
   ],
   "source": [
    "from NoteBook_UI.notebook_ui import dropdown_widget\n",
    "dropdown_widget()"
   ]
  },
  {
   "cell_type": "code",
   "execution_count": 2,
   "metadata": {},
   "outputs": [
    {
     "data": {
      "application/vnd.jupyter.widget-view+json": {
       "model_id": "a1539a5ece4b4f1d8f505249002842fe",
       "version_major": 2,
       "version_minor": 0
      },
      "text/plain": [
       "VBox(children=(Textarea(value='{\\n    \"java_exe\": \"C:\\\\\\\\Users\\\\\\\\David\\\\\\\\.jdks\\\\\\\\openjdk-18.0.2.1\\\\\\\\bin\\\\\\…"
      ]
     },
     "execution_count": 2,
     "metadata": {},
     "output_type": "execute_result"
    }
   ],
   "source": [
    "from NoteBook_UI.notebook_ui import config_editor\n",
    "config_editor()\n"
   ]
  },
  {
   "cell_type": "markdown",
   "metadata": {},
   "source": [
    "2. Upload a CSV file or a ZIP archive locally. ZIPs will be extracted automatically."
   ]
  },
  {
   "cell_type": "code",
   "execution_count": 3,
   "metadata": {},
   "outputs": [
    {
     "data": {
      "application/vnd.jupyter.widget-view+json": {
       "model_id": "128c633ea48841ce8d27c1a45a18f9c5",
       "version_major": 2,
       "version_minor": 0
      },
      "text/plain": [
       "VBox(children=(Label(value='Upload your dataset (CSV or ZIP containing CSV files):'), FileUpload(value=(), acc…"
      ]
     },
     "execution_count": 3,
     "metadata": {},
     "output_type": "execute_result"
    }
   ],
   "source": [
    "from NoteBook_UI.notebook_ui import upload_widget\n",
    "import json\n",
    "\n",
    "# Load your config\n",
    "with open(\"NoteBook_UI/config.json\", \"r\") as f:\n",
    "    config = json.load(f)\n",
    "\n",
    "# Display widget\n",
    "upload_widget(config)"
   ]
  },
  {
   "cell_type": "markdown",
   "metadata": {},
   "source": [
    "3. Run the classification pipeline on the dataset:"
   ]
  },
  {
   "cell_type": "code",
   "execution_count": 4,
   "metadata": {},
   "outputs": [
    {
     "name": "stdout",
     "output_type": "stream",
     "text": [
      "-----Starting full classification pipeline with metrics-----\n",
      "Reading and processing: UserData/realData\\achievements.csv\n"
     ]
    },
    {
     "name": "stderr",
     "output_type": "stream",
     "text": [
      "Reading: 100%|██████████| 1/1 [00:00<00:00, 418.51it/s]\n"
     ]
    },
    {
     "name": "stdout",
     "output_type": "stream",
     "text": [
      "Only 78 rows found. Sampling skipped.\n",
      "Cleaned CSV saved to: UserData/realData\\achievements.csv.tmp\n",
      "Reading and processing: UserData/realData\\art.csv\n"
     ]
    },
    {
     "name": "stderr",
     "output_type": "stream",
     "text": [
      "Reading: 100%|██████████| 1/1 [00:00<00:00, 532.20it/s]\n"
     ]
    },
    {
     "name": "stdout",
     "output_type": "stream",
     "text": [
      "Only 12 rows found. Sampling skipped.\n",
      "Cleaned CSV saved to: UserData/realData\\art.csv.tmp\n",
      "Reading and processing: UserData/realData\\bags.csv\n"
     ]
    },
    {
     "name": "stderr",
     "output_type": "stream",
     "text": [
      "Reading: 100%|██████████| 1/1 [00:00<00:00, 512.69it/s]\n"
     ]
    },
    {
     "name": "stdout",
     "output_type": "stream",
     "text": [
      "Only 96 rows found. Sampling skipped.\n",
      "Cleaned CSV saved to: UserData/realData\\bags.csv.tmp\n",
      "Reading and processing: UserData/realData\\bottoms.csv\n"
     ]
    },
    {
     "name": "stderr",
     "output_type": "stream",
     "text": [
      "Reading: 100%|██████████| 1/1 [00:00<00:00, 183.48it/s]"
     ]
    },
    {
     "name": "stdout",
     "output_type": "stream",
     "text": [
      "Only 726 rows found. Sampling skipped.\n",
      "Cleaned CSV saved to: UserData/realData\\bottoms.csv.tmp\n",
      "Reading and processing: UserData/realData\\construction.csv\n"
     ]
    },
    {
     "name": "stderr",
     "output_type": "stream",
     "text": [
      "\n",
      "Reading: 100%|██████████| 1/1 [00:00<00:00, 493.51it/s]\n"
     ]
    },
    {
     "name": "stdout",
     "output_type": "stream",
     "text": [
      "Only 236 rows found. Sampling skipped.\n",
      "Cleaned CSV saved to: UserData/realData\\construction.csv.tmp\n",
      "[2025-04-06 12:56:09] Metanome result already exists: UserData/realData\\metanomeResults\\.\\achievements_Results.json, skipping.\n",
      "[2025-04-06 12:56:09] Metanome result already exists: UserData/realData\\metanomeResults\\.\\art_Results.json, skipping.\n",
      "[2025-04-06 12:56:09] Metanome result already exists: UserData/realData\\metanomeResults\\.\\bags_Results.json, skipping.\n",
      "[2025-04-06 12:56:09] Metanome result already exists: UserData/realData\\metanomeResults\\.\\bottoms_Results.json, skipping.\n",
      "[2025-04-06 12:56:09] Metanome result already exists: UserData/realData\\metanomeResults\\.\\construction_Results.json, skipping.\n",
      "Found 5 datasets in 'UserData/realData'. Starting classification...\n"
     ]
    },
    {
     "name": "stderr",
     "output_type": "stream",
     "text": [
      "F:\\VSCode\\projects\\generatedDatasetDetector\\RandomForest\\MultipleRandomForestTraining.py:40: RuntimeWarning: Precision loss occurred in moment calculation due to catastrophic cancellation. This occurs when the data are nearly identical. Results may be unreliable.\n",
      "  skew_vals = skew(filtered_numeric_df, nan_policy='omit')\n",
      "F:\\VSCode\\projects\\generatedDatasetDetector\\RandomForest\\MultipleRandomForestTraining.py:47: RuntimeWarning: Precision loss occurred in moment calculation due to catastrophic cancellation. This occurs when the data are nearly identical. Results may be unreliable.\n",
      "  features['num_kurtosis'] = np.clip(np.nanmean(kurtosis(filtered_numeric_df, nan_policy='omit')), -10, 10)\n"
     ]
    },
    {
     "name": "stdout",
     "output_type": "stream",
     "text": [
      "UserData/realData\\achievements.csv classified as real in 63 ms.\n",
      "UserData/realData\\art.csv classified as real in 54 ms.\n",
      "UserData/realData\\bags.csv classified as real in 46 ms.\n",
      "UserData/realData\\bottoms.csv classified as real in 52 ms.\n",
      "UserData/realData\\construction.csv classified as real in 40 ms.\n",
      "[2025-04-06 12:56:10] Summary written to UserData/results\\run_summary.txt\n",
      "-----Classification completed-----\n"
     ]
    }
   ],
   "source": [
    "%run test_pipeline.py"
   ]
  }
 ],
 "metadata": {
  "kernelspec": {
   "display_name": "Python 3",
   "language": "python",
   "name": "python3"
  },
  "language_info": {
   "codemirror_mode": {
    "name": "ipython",
    "version": 3
   },
   "file_extension": ".py",
   "mimetype": "text/x-python",
   "name": "python",
   "nbconvert_exporter": "python",
   "pygments_lexer": "ipython3",
   "version": "3.13.2"
  }
 },
 "nbformat": 4,
 "nbformat_minor": 2
}
