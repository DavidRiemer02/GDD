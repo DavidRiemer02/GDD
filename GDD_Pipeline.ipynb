{
 "cells": [
  {
   "cell_type": "markdown",
   "metadata": {},
   "source": [
    "GDD Classify Pipeline"
   ]
  },
  {
   "cell_type": "markdown",
   "metadata": {},
   "source": [
    "1. Step Set the run configuration.\n",
    "Be sure to set java memory not over your usable RAM\n",
    "If Metanome fails, be sure to use JAVA Version 18.0.2.1"
   ]
  },
  {
   "cell_type": "code",
   "execution_count": null,
   "metadata": {},
   "outputs": [],
   "source": [
    "from ipywidgets import Textarea, Button, VBox, Label\n",
    "import json\n",
    "from notebook_ui import config_editor\n",
    "# Load your config\n",
    "\n",
    "config_editor()"
   ]
  },
  {
   "cell_type": "markdown",
   "metadata": {},
   "source": [
    "Select a file that you want to classify:"
   ]
  },
  {
   "cell_type": "code",
   "execution_count": 1,
   "metadata": {},
   "outputs": [
    {
     "data": {
      "application/vnd.jupyter.widget-view+json": {
       "model_id": "393ab4847f004f4895432b4c26c5062a",
       "version_major": 2,
       "version_minor": 0
      },
      "text/plain": [
       "VBox(children=(FileUpload(value=(), accept='.csv', description='Upload'), Label(value='')))"
      ]
     },
     "execution_count": 1,
     "metadata": {},
     "output_type": "execute_result"
    }
   ],
   "source": [
    "from notebook_ui import upload_widget\n",
    "import json\n",
    "\n",
    "# Load your config\n",
    "with open(\"config.json\", \"r\") as f:\n",
    "    config = json.load(f)\n",
    "\n",
    "# Display widget\n",
    "upload_widget(config)"
   ]
  },
  {
   "cell_type": "markdown",
   "metadata": {},
   "source": [
    "Run the classification pipeline on the dataset:"
   ]
  },
  {
   "cell_type": "code",
   "execution_count": 2,
   "metadata": {},
   "outputs": [
    {
     "name": "stdout",
     "output_type": "stream",
     "text": [
      "⚠️ Error processing file with encoding utf-8-sig: [Errno 2] No such file or directory: 'TrainingData/fakeData/anne_car_data_1.csv'\n",
      "Starting full test pipeline with metrics...\n",
      "Cleaning CSV files in UserData/realData ...\n",
      "Cleaning UserData/realData\\estat_sbs_sc_ovw_filtered_en.csv ...\n",
      "Reading and processing: UserData/realData\\estat_sbs_sc_ovw_filtered_en.csv\n"
     ]
    },
    {
     "name": "stderr",
     "output_type": "stream",
     "text": [
      "Reading: 100%|██████████| 1/1 [00:00<00:00, 515.52it/s]"
     ]
    },
    {
     "name": "stdout",
     "output_type": "stream",
     "text": [
      "⚠️ Only 106 rows found. Sampling skipped.\n",
      "✅ Cleaned CSV saved to: UserData/realData\\estat_sbs_sc_ovw_filtered_en.csv.tmp\n",
      "Processing is complete and file has been overwritten with sampled data.\n",
      "[2025-03-29 11:59:23] ✅ Metanome result already exists: UserData/realData\\metanomeResults\\.\\estat_sbs_sc_ovw_filtered_en_Results.json, skipping.\n",
      "Found 1 datasets in 'UserData/realData'. Starting classification...\n",
      "UserData/realData\\estat_sbs_sc_ovw_filtered_en.csv classified as real in 42 ms.\n"
     ]
    },
    {
     "name": "stderr",
     "output_type": "stream",
     "text": [
      "\n"
     ]
    }
   ],
   "source": [
    "%run test_pipeline.py"
   ]
  }
 ],
 "metadata": {
  "kernelspec": {
   "display_name": "Python 3",
   "language": "python",
   "name": "python3"
  },
  "language_info": {
   "codemirror_mode": {
    "name": "ipython",
    "version": 3
   },
   "file_extension": ".py",
   "mimetype": "text/x-python",
   "name": "python",
   "nbconvert_exporter": "python",
   "pygments_lexer": "ipython3",
   "version": "3.13.2"
  }
 },
 "nbformat": 4,
 "nbformat_minor": 2
}
